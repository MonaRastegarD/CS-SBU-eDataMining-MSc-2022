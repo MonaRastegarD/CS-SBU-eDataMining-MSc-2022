{
  "cells": [
    {
      "cell_type": "markdown",
      "metadata": {
        "id": "jZmCK1IjPuJ2"
      },
      "source": [
        "\n",
        "# READ DATASET"
      ]
    },
    {
      "cell_type": "code",
      "source": [
        "import seaborn as sb\n",
        "from sklearn.model_selection import train_test_split\n",
        "from sklearn.metrics import confusion_matrix\n",
        "!pip install transformers\n",
        "from sklearn.linear_model import LogisticRegression\n",
        "from transformers import pipeline\n",
        "from sklearn.pipeline import make_pipeline\n",
        "from sklearn.preprocessing import StandardScaler\n",
        "# Pipelines\n",
        "from sklearn.pipeline import Pipeline, FeatureUnion\n",
        "from sklearn.base import BaseEstimator, TransformerMixin\n",
        "from sklearn.compose import ColumnTransformer\n",
        "\n",
        "# Machine Learning\n",
        "from sklearn.tree import DecisionTreeClassifier\n",
        "from sklearn.ensemble import RandomForestClassifier\n",
        "from sklearn.model_selection import KFold\n",
        "from sklearn.neighbors import KNeighborsClassifier\n",
        "from sklearn.datasets import make_classification\n",
        "from sklearn.linear_model import LogisticRegression\n",
        "from sklearn.model_selection import train_test_split\n",
        "from sklearn import metrics\n",
        "from sklearn.metrics import roc_curve\n",
        "from sklearn.metrics import roc_auc_score\n",
        "from matplotlib import pyplot\n",
        "# Transformers\n",
        "from sklearn.preprocessing import LabelEncoder, OneHotEncoder, StandardScaler\n",
        "import pandas as pd\n",
        "import numpy as np\n",
        "import matplotlib.pyplot as plt\n",
        "import time\n",
        "# confusion matrix in sklearn\n",
        "from sklearn.metrics import confusion_matrix\n",
        "from sklearn.metrics import classification_report"
      ],
      "metadata": {
        "colab": {
          "base_uri": "https://localhost:8080/"
        },
        "id": "hU-v8P1Gv2N8",
        "outputId": "6a9072ab-556e-4d1d-ecba-8ba1d3368ef2"
      },
      "execution_count": 52,
      "outputs": [
        {
          "output_type": "stream",
          "name": "stdout",
          "text": [
            "Looking in indexes: https://pypi.org/simple, https://us-python.pkg.dev/colab-wheels/public/simple/\n",
            "Requirement already satisfied: transformers in /usr/local/lib/python3.7/dist-packages (4.20.1)\n",
            "Requirement already satisfied: numpy>=1.17 in /usr/local/lib/python3.7/dist-packages (from transformers) (1.21.6)\n",
            "Requirement already satisfied: importlib-metadata in /usr/local/lib/python3.7/dist-packages (from transformers) (4.11.4)\n",
            "Requirement already satisfied: regex!=2019.12.17 in /usr/local/lib/python3.7/dist-packages (from transformers) (2022.6.2)\n",
            "Requirement already satisfied: packaging>=20.0 in /usr/local/lib/python3.7/dist-packages (from transformers) (21.3)\n",
            "Requirement already satisfied: tqdm>=4.27 in /usr/local/lib/python3.7/dist-packages (from transformers) (4.64.0)\n",
            "Requirement already satisfied: filelock in /usr/local/lib/python3.7/dist-packages (from transformers) (3.7.1)\n",
            "Requirement already satisfied: tokenizers!=0.11.3,<0.13,>=0.11.1 in /usr/local/lib/python3.7/dist-packages (from transformers) (0.12.1)\n",
            "Requirement already satisfied: requests in /usr/local/lib/python3.7/dist-packages (from transformers) (2.23.0)\n",
            "Requirement already satisfied: pyyaml>=5.1 in /usr/local/lib/python3.7/dist-packages (from transformers) (6.0)\n",
            "Requirement already satisfied: huggingface-hub<1.0,>=0.1.0 in /usr/local/lib/python3.7/dist-packages (from transformers) (0.8.1)\n",
            "Requirement already satisfied: typing-extensions>=3.7.4.3 in /usr/local/lib/python3.7/dist-packages (from huggingface-hub<1.0,>=0.1.0->transformers) (4.1.1)\n",
            "Requirement already satisfied: pyparsing!=3.0.5,>=2.0.2 in /usr/local/lib/python3.7/dist-packages (from packaging>=20.0->transformers) (3.0.9)\n",
            "Requirement already satisfied: zipp>=0.5 in /usr/local/lib/python3.7/dist-packages (from importlib-metadata->transformers) (3.8.0)\n",
            "Requirement already satisfied: urllib3!=1.25.0,!=1.25.1,<1.26,>=1.21.1 in /usr/local/lib/python3.7/dist-packages (from requests->transformers) (1.24.3)\n",
            "Requirement already satisfied: idna<3,>=2.5 in /usr/local/lib/python3.7/dist-packages (from requests->transformers) (2.10)\n",
            "Requirement already satisfied: certifi>=2017.4.17 in /usr/local/lib/python3.7/dist-packages (from requests->transformers) (2022.6.15)\n",
            "Requirement already satisfied: chardet<4,>=3.0.2 in /usr/local/lib/python3.7/dist-packages (from requests->transformers) (3.0.4)\n"
          ]
        }
      ]
    },
    {
      "cell_type": "code",
      "execution_count": 53,
      "metadata": {
        "id": "jAlQRzVMPp5-"
      },
      "outputs": [],
      "source": [
        "train_data=pd.read_csv(\"train.csv\").reset_index()\n",
        "test_data= pd.read_csv(\"test.csv\").reset_index()  \n",
        "train_copy=train_data.copy()"
      ]
    },
    {
      "cell_type": "code",
      "source": [
        "train_data.head(3)"
      ],
      "metadata": {
        "colab": {
          "base_uri": "https://localhost:8080/",
          "height": 237
        },
        "id": "MBTROKjEq0cT",
        "outputId": "d0c12087-0e8a-4c9e-b42b-5133d0de3c3d"
      },
      "execution_count": 54,
      "outputs": [
        {
          "output_type": "execute_result",
          "data": {
            "text/plain": [
              "   index  battery_power  blue  clock_speed  dual_sim  fc  four_g  int_memory  \\\n",
              "0      0            842     0          2.2         0   1       0           7   \n",
              "1      1           1021     1          0.5         1   0       1          53   \n",
              "2      2            563     1          0.5         1   2       1          41   \n",
              "\n",
              "   m_dep  mobile_wt  ...  px_height  px_width   ram  sc_h  sc_w  talk_time  \\\n",
              "0    0.6        188  ...         20       756  2549     9     7         19   \n",
              "1    0.7        136  ...        905      1988  2631    17     3          7   \n",
              "2    0.9        145  ...       1263      1716  2603    11     2          9   \n",
              "\n",
              "   three_g  touch_screen  wifi  price_range  \n",
              "0        0             0     1            1  \n",
              "1        1             1     0            2  \n",
              "2        1             1     0            2  \n",
              "\n",
              "[3 rows x 22 columns]"
            ],
            "text/html": [
              "\n",
              "  <div id=\"df-b24c5f99-8641-4205-b2ae-c928036a75c7\">\n",
              "    <div class=\"colab-df-container\">\n",
              "      <div>\n",
              "<style scoped>\n",
              "    .dataframe tbody tr th:only-of-type {\n",
              "        vertical-align: middle;\n",
              "    }\n",
              "\n",
              "    .dataframe tbody tr th {\n",
              "        vertical-align: top;\n",
              "    }\n",
              "\n",
              "    .dataframe thead th {\n",
              "        text-align: right;\n",
              "    }\n",
              "</style>\n",
              "<table border=\"1\" class=\"dataframe\">\n",
              "  <thead>\n",
              "    <tr style=\"text-align: right;\">\n",
              "      <th></th>\n",
              "      <th>index</th>\n",
              "      <th>battery_power</th>\n",
              "      <th>blue</th>\n",
              "      <th>clock_speed</th>\n",
              "      <th>dual_sim</th>\n",
              "      <th>fc</th>\n",
              "      <th>four_g</th>\n",
              "      <th>int_memory</th>\n",
              "      <th>m_dep</th>\n",
              "      <th>mobile_wt</th>\n",
              "      <th>...</th>\n",
              "      <th>px_height</th>\n",
              "      <th>px_width</th>\n",
              "      <th>ram</th>\n",
              "      <th>sc_h</th>\n",
              "      <th>sc_w</th>\n",
              "      <th>talk_time</th>\n",
              "      <th>three_g</th>\n",
              "      <th>touch_screen</th>\n",
              "      <th>wifi</th>\n",
              "      <th>price_range</th>\n",
              "    </tr>\n",
              "  </thead>\n",
              "  <tbody>\n",
              "    <tr>\n",
              "      <th>0</th>\n",
              "      <td>0</td>\n",
              "      <td>842</td>\n",
              "      <td>0</td>\n",
              "      <td>2.2</td>\n",
              "      <td>0</td>\n",
              "      <td>1</td>\n",
              "      <td>0</td>\n",
              "      <td>7</td>\n",
              "      <td>0.6</td>\n",
              "      <td>188</td>\n",
              "      <td>...</td>\n",
              "      <td>20</td>\n",
              "      <td>756</td>\n",
              "      <td>2549</td>\n",
              "      <td>9</td>\n",
              "      <td>7</td>\n",
              "      <td>19</td>\n",
              "      <td>0</td>\n",
              "      <td>0</td>\n",
              "      <td>1</td>\n",
              "      <td>1</td>\n",
              "    </tr>\n",
              "    <tr>\n",
              "      <th>1</th>\n",
              "      <td>1</td>\n",
              "      <td>1021</td>\n",
              "      <td>1</td>\n",
              "      <td>0.5</td>\n",
              "      <td>1</td>\n",
              "      <td>0</td>\n",
              "      <td>1</td>\n",
              "      <td>53</td>\n",
              "      <td>0.7</td>\n",
              "      <td>136</td>\n",
              "      <td>...</td>\n",
              "      <td>905</td>\n",
              "      <td>1988</td>\n",
              "      <td>2631</td>\n",
              "      <td>17</td>\n",
              "      <td>3</td>\n",
              "      <td>7</td>\n",
              "      <td>1</td>\n",
              "      <td>1</td>\n",
              "      <td>0</td>\n",
              "      <td>2</td>\n",
              "    </tr>\n",
              "    <tr>\n",
              "      <th>2</th>\n",
              "      <td>2</td>\n",
              "      <td>563</td>\n",
              "      <td>1</td>\n",
              "      <td>0.5</td>\n",
              "      <td>1</td>\n",
              "      <td>2</td>\n",
              "      <td>1</td>\n",
              "      <td>41</td>\n",
              "      <td>0.9</td>\n",
              "      <td>145</td>\n",
              "      <td>...</td>\n",
              "      <td>1263</td>\n",
              "      <td>1716</td>\n",
              "      <td>2603</td>\n",
              "      <td>11</td>\n",
              "      <td>2</td>\n",
              "      <td>9</td>\n",
              "      <td>1</td>\n",
              "      <td>1</td>\n",
              "      <td>0</td>\n",
              "      <td>2</td>\n",
              "    </tr>\n",
              "  </tbody>\n",
              "</table>\n",
              "<p>3 rows × 22 columns</p>\n",
              "</div>\n",
              "      <button class=\"colab-df-convert\" onclick=\"convertToInteractive('df-b24c5f99-8641-4205-b2ae-c928036a75c7')\"\n",
              "              title=\"Convert this dataframe to an interactive table.\"\n",
              "              style=\"display:none;\">\n",
              "        \n",
              "  <svg xmlns=\"http://www.w3.org/2000/svg\" height=\"24px\"viewBox=\"0 0 24 24\"\n",
              "       width=\"24px\">\n",
              "    <path d=\"M0 0h24v24H0V0z\" fill=\"none\"/>\n",
              "    <path d=\"M18.56 5.44l.94 2.06.94-2.06 2.06-.94-2.06-.94-.94-2.06-.94 2.06-2.06.94zm-11 1L8.5 8.5l.94-2.06 2.06-.94-2.06-.94L8.5 2.5l-.94 2.06-2.06.94zm10 10l.94 2.06.94-2.06 2.06-.94-2.06-.94-.94-2.06-.94 2.06-2.06.94z\"/><path d=\"M17.41 7.96l-1.37-1.37c-.4-.4-.92-.59-1.43-.59-.52 0-1.04.2-1.43.59L10.3 9.45l-7.72 7.72c-.78.78-.78 2.05 0 2.83L4 21.41c.39.39.9.59 1.41.59.51 0 1.02-.2 1.41-.59l7.78-7.78 2.81-2.81c.8-.78.8-2.07 0-2.86zM5.41 20L4 18.59l7.72-7.72 1.47 1.35L5.41 20z\"/>\n",
              "  </svg>\n",
              "      </button>\n",
              "      \n",
              "  <style>\n",
              "    .colab-df-container {\n",
              "      display:flex;\n",
              "      flex-wrap:wrap;\n",
              "      gap: 12px;\n",
              "    }\n",
              "\n",
              "    .colab-df-convert {\n",
              "      background-color: #E8F0FE;\n",
              "      border: none;\n",
              "      border-radius: 50%;\n",
              "      cursor: pointer;\n",
              "      display: none;\n",
              "      fill: #1967D2;\n",
              "      height: 32px;\n",
              "      padding: 0 0 0 0;\n",
              "      width: 32px;\n",
              "    }\n",
              "\n",
              "    .colab-df-convert:hover {\n",
              "      background-color: #E2EBFA;\n",
              "      box-shadow: 0px 1px 2px rgba(60, 64, 67, 0.3), 0px 1px 3px 1px rgba(60, 64, 67, 0.15);\n",
              "      fill: #174EA6;\n",
              "    }\n",
              "\n",
              "    [theme=dark] .colab-df-convert {\n",
              "      background-color: #3B4455;\n",
              "      fill: #D2E3FC;\n",
              "    }\n",
              "\n",
              "    [theme=dark] .colab-df-convert:hover {\n",
              "      background-color: #434B5C;\n",
              "      box-shadow: 0px 1px 3px 1px rgba(0, 0, 0, 0.15);\n",
              "      filter: drop-shadow(0px 1px 2px rgba(0, 0, 0, 0.3));\n",
              "      fill: #FFFFFF;\n",
              "    }\n",
              "  </style>\n",
              "\n",
              "      <script>\n",
              "        const buttonEl =\n",
              "          document.querySelector('#df-b24c5f99-8641-4205-b2ae-c928036a75c7 button.colab-df-convert');\n",
              "        buttonEl.style.display =\n",
              "          google.colab.kernel.accessAllowed ? 'block' : 'none';\n",
              "\n",
              "        async function convertToInteractive(key) {\n",
              "          const element = document.querySelector('#df-b24c5f99-8641-4205-b2ae-c928036a75c7');\n",
              "          const dataTable =\n",
              "            await google.colab.kernel.invokeFunction('convertToInteractive',\n",
              "                                                     [key], {});\n",
              "          if (!dataTable) return;\n",
              "\n",
              "          const docLinkHtml = 'Like what you see? Visit the ' +\n",
              "            '<a target=\"_blank\" href=https://colab.research.google.com/notebooks/data_table.ipynb>data table notebook</a>'\n",
              "            + ' to learn more about interactive tables.';\n",
              "          element.innerHTML = '';\n",
              "          dataTable['output_type'] = 'display_data';\n",
              "          await google.colab.output.renderOutput(dataTable, element);\n",
              "          const docLink = document.createElement('div');\n",
              "          docLink.innerHTML = docLinkHtml;\n",
              "          element.appendChild(docLink);\n",
              "        }\n",
              "      </script>\n",
              "    </div>\n",
              "  </div>\n",
              "  "
            ]
          },
          "metadata": {},
          "execution_count": 54
        }
      ]
    },
    {
      "cell_type": "code",
      "source": [
        "test_data.head(3)"
      ],
      "metadata": {
        "colab": {
          "base_uri": "https://localhost:8080/",
          "height": 237
        },
        "id": "FI_tnM3Pq52l",
        "outputId": "ef532cb0-885b-4bc3-a851-20cb3d1be508"
      },
      "execution_count": 55,
      "outputs": [
        {
          "output_type": "execute_result",
          "data": {
            "text/plain": [
              "   index  id  battery_power  blue  clock_speed  dual_sim  fc  four_g  \\\n",
              "0      0   1           1043     1          1.8         1  14       0   \n",
              "1      1   2            841     1          0.5         1   4       1   \n",
              "2      2   3           1807     1          2.8         0   1       0   \n",
              "\n",
              "   int_memory  m_dep  ...  pc  px_height  px_width   ram  sc_h  sc_w  \\\n",
              "0           5    0.1  ...  16        226      1412  3476    12     7   \n",
              "1          61    0.8  ...  12        746       857  3895     6     0   \n",
              "2          27    0.9  ...   4       1270      1366  2396    17    10   \n",
              "\n",
              "   talk_time  three_g  touch_screen  wifi  \n",
              "0          2        0             1     0  \n",
              "1          7        1             0     0  \n",
              "2         10        0             1     1  \n",
              "\n",
              "[3 rows x 22 columns]"
            ],
            "text/html": [
              "\n",
              "  <div id=\"df-c30aab5b-9319-46f7-8472-3d838497644c\">\n",
              "    <div class=\"colab-df-container\">\n",
              "      <div>\n",
              "<style scoped>\n",
              "    .dataframe tbody tr th:only-of-type {\n",
              "        vertical-align: middle;\n",
              "    }\n",
              "\n",
              "    .dataframe tbody tr th {\n",
              "        vertical-align: top;\n",
              "    }\n",
              "\n",
              "    .dataframe thead th {\n",
              "        text-align: right;\n",
              "    }\n",
              "</style>\n",
              "<table border=\"1\" class=\"dataframe\">\n",
              "  <thead>\n",
              "    <tr style=\"text-align: right;\">\n",
              "      <th></th>\n",
              "      <th>index</th>\n",
              "      <th>id</th>\n",
              "      <th>battery_power</th>\n",
              "      <th>blue</th>\n",
              "      <th>clock_speed</th>\n",
              "      <th>dual_sim</th>\n",
              "      <th>fc</th>\n",
              "      <th>four_g</th>\n",
              "      <th>int_memory</th>\n",
              "      <th>m_dep</th>\n",
              "      <th>...</th>\n",
              "      <th>pc</th>\n",
              "      <th>px_height</th>\n",
              "      <th>px_width</th>\n",
              "      <th>ram</th>\n",
              "      <th>sc_h</th>\n",
              "      <th>sc_w</th>\n",
              "      <th>talk_time</th>\n",
              "      <th>three_g</th>\n",
              "      <th>touch_screen</th>\n",
              "      <th>wifi</th>\n",
              "    </tr>\n",
              "  </thead>\n",
              "  <tbody>\n",
              "    <tr>\n",
              "      <th>0</th>\n",
              "      <td>0</td>\n",
              "      <td>1</td>\n",
              "      <td>1043</td>\n",
              "      <td>1</td>\n",
              "      <td>1.8</td>\n",
              "      <td>1</td>\n",
              "      <td>14</td>\n",
              "      <td>0</td>\n",
              "      <td>5</td>\n",
              "      <td>0.1</td>\n",
              "      <td>...</td>\n",
              "      <td>16</td>\n",
              "      <td>226</td>\n",
              "      <td>1412</td>\n",
              "      <td>3476</td>\n",
              "      <td>12</td>\n",
              "      <td>7</td>\n",
              "      <td>2</td>\n",
              "      <td>0</td>\n",
              "      <td>1</td>\n",
              "      <td>0</td>\n",
              "    </tr>\n",
              "    <tr>\n",
              "      <th>1</th>\n",
              "      <td>1</td>\n",
              "      <td>2</td>\n",
              "      <td>841</td>\n",
              "      <td>1</td>\n",
              "      <td>0.5</td>\n",
              "      <td>1</td>\n",
              "      <td>4</td>\n",
              "      <td>1</td>\n",
              "      <td>61</td>\n",
              "      <td>0.8</td>\n",
              "      <td>...</td>\n",
              "      <td>12</td>\n",
              "      <td>746</td>\n",
              "      <td>857</td>\n",
              "      <td>3895</td>\n",
              "      <td>6</td>\n",
              "      <td>0</td>\n",
              "      <td>7</td>\n",
              "      <td>1</td>\n",
              "      <td>0</td>\n",
              "      <td>0</td>\n",
              "    </tr>\n",
              "    <tr>\n",
              "      <th>2</th>\n",
              "      <td>2</td>\n",
              "      <td>3</td>\n",
              "      <td>1807</td>\n",
              "      <td>1</td>\n",
              "      <td>2.8</td>\n",
              "      <td>0</td>\n",
              "      <td>1</td>\n",
              "      <td>0</td>\n",
              "      <td>27</td>\n",
              "      <td>0.9</td>\n",
              "      <td>...</td>\n",
              "      <td>4</td>\n",
              "      <td>1270</td>\n",
              "      <td>1366</td>\n",
              "      <td>2396</td>\n",
              "      <td>17</td>\n",
              "      <td>10</td>\n",
              "      <td>10</td>\n",
              "      <td>0</td>\n",
              "      <td>1</td>\n",
              "      <td>1</td>\n",
              "    </tr>\n",
              "  </tbody>\n",
              "</table>\n",
              "<p>3 rows × 22 columns</p>\n",
              "</div>\n",
              "      <button class=\"colab-df-convert\" onclick=\"convertToInteractive('df-c30aab5b-9319-46f7-8472-3d838497644c')\"\n",
              "              title=\"Convert this dataframe to an interactive table.\"\n",
              "              style=\"display:none;\">\n",
              "        \n",
              "  <svg xmlns=\"http://www.w3.org/2000/svg\" height=\"24px\"viewBox=\"0 0 24 24\"\n",
              "       width=\"24px\">\n",
              "    <path d=\"M0 0h24v24H0V0z\" fill=\"none\"/>\n",
              "    <path d=\"M18.56 5.44l.94 2.06.94-2.06 2.06-.94-2.06-.94-.94-2.06-.94 2.06-2.06.94zm-11 1L8.5 8.5l.94-2.06 2.06-.94-2.06-.94L8.5 2.5l-.94 2.06-2.06.94zm10 10l.94 2.06.94-2.06 2.06-.94-2.06-.94-.94-2.06-.94 2.06-2.06.94z\"/><path d=\"M17.41 7.96l-1.37-1.37c-.4-.4-.92-.59-1.43-.59-.52 0-1.04.2-1.43.59L10.3 9.45l-7.72 7.72c-.78.78-.78 2.05 0 2.83L4 21.41c.39.39.9.59 1.41.59.51 0 1.02-.2 1.41-.59l7.78-7.78 2.81-2.81c.8-.78.8-2.07 0-2.86zM5.41 20L4 18.59l7.72-7.72 1.47 1.35L5.41 20z\"/>\n",
              "  </svg>\n",
              "      </button>\n",
              "      \n",
              "  <style>\n",
              "    .colab-df-container {\n",
              "      display:flex;\n",
              "      flex-wrap:wrap;\n",
              "      gap: 12px;\n",
              "    }\n",
              "\n",
              "    .colab-df-convert {\n",
              "      background-color: #E8F0FE;\n",
              "      border: none;\n",
              "      border-radius: 50%;\n",
              "      cursor: pointer;\n",
              "      display: none;\n",
              "      fill: #1967D2;\n",
              "      height: 32px;\n",
              "      padding: 0 0 0 0;\n",
              "      width: 32px;\n",
              "    }\n",
              "\n",
              "    .colab-df-convert:hover {\n",
              "      background-color: #E2EBFA;\n",
              "      box-shadow: 0px 1px 2px rgba(60, 64, 67, 0.3), 0px 1px 3px 1px rgba(60, 64, 67, 0.15);\n",
              "      fill: #174EA6;\n",
              "    }\n",
              "\n",
              "    [theme=dark] .colab-df-convert {\n",
              "      background-color: #3B4455;\n",
              "      fill: #D2E3FC;\n",
              "    }\n",
              "\n",
              "    [theme=dark] .colab-df-convert:hover {\n",
              "      background-color: #434B5C;\n",
              "      box-shadow: 0px 1px 3px 1px rgba(0, 0, 0, 0.15);\n",
              "      filter: drop-shadow(0px 1px 2px rgba(0, 0, 0, 0.3));\n",
              "      fill: #FFFFFF;\n",
              "    }\n",
              "  </style>\n",
              "\n",
              "      <script>\n",
              "        const buttonEl =\n",
              "          document.querySelector('#df-c30aab5b-9319-46f7-8472-3d838497644c button.colab-df-convert');\n",
              "        buttonEl.style.display =\n",
              "          google.colab.kernel.accessAllowed ? 'block' : 'none';\n",
              "\n",
              "        async function convertToInteractive(key) {\n",
              "          const element = document.querySelector('#df-c30aab5b-9319-46f7-8472-3d838497644c');\n",
              "          const dataTable =\n",
              "            await google.colab.kernel.invokeFunction('convertToInteractive',\n",
              "                                                     [key], {});\n",
              "          if (!dataTable) return;\n",
              "\n",
              "          const docLinkHtml = 'Like what you see? Visit the ' +\n",
              "            '<a target=\"_blank\" href=https://colab.research.google.com/notebooks/data_table.ipynb>data table notebook</a>'\n",
              "            + ' to learn more about interactive tables.';\n",
              "          element.innerHTML = '';\n",
              "          dataTable['output_type'] = 'display_data';\n",
              "          await google.colab.output.renderOutput(dataTable, element);\n",
              "          const docLink = document.createElement('div');\n",
              "          docLink.innerHTML = docLinkHtml;\n",
              "          element.appendChild(docLink);\n",
              "        }\n",
              "      </script>\n",
              "    </div>\n",
              "  </div>\n",
              "  "
            ]
          },
          "metadata": {},
          "execution_count": 55
        }
      ]
    },
    {
      "cell_type": "code",
      "execution_count": 56,
      "metadata": {
        "colab": {
          "base_uri": "https://localhost:8080/"
        },
        "id": "K9zMTg3oT_Qb",
        "outputId": "3be17979-bd3a-4550-b2ad-78520694f07a"
      },
      "outputs": [
        {
          "output_type": "stream",
          "name": "stdout",
          "text": [
            "The dataset name :mobile price, train.csv \n",
            "# of features in dataset:  22\n",
            "# of records in train dataset:  2000\n",
            "# of records in test dataset:  1000\n"
          ]
        }
      ],
      "source": [
        "print(\"The dataset name :mobile price, train.csv \")\n",
        "print(\"# of features in dataset: \", len(train_data.columns))\n",
        "print(\"# of records in train dataset: \", len(train_data))\n",
        "print(\"# of records in test dataset: \", len(test_data))\n"
      ]
    },
    {
      "cell_type": "markdown",
      "metadata": {
        "id": "BVSLQXc8gwjd"
      },
      "source": [
        "**Classification into 2 classes: expensive and cheap**"
      ]
    },
    {
      "cell_type": "code",
      "execution_count": 57,
      "metadata": {
        "colab": {
          "base_uri": "https://localhost:8080/"
        },
        "id": "yYq0k01Xgwje",
        "outputId": "d1125e6c-9267-417e-e80c-e27305b8166e"
      },
      "outputs": [
        {
          "output_type": "stream",
          "name": "stdout",
          "text": [
            "0       0\n",
            "1       1\n",
            "2       1\n",
            "3       1\n",
            "4       0\n",
            "       ..\n",
            "1995    0\n",
            "1996    1\n",
            "1997    1\n",
            "1998    0\n",
            "1999    1\n",
            "Name: price_range, Length: 2000, dtype: int64\n",
            "run time : 0.030340194702148438\n"
          ]
        }
      ],
      "source": [
        "s_time = time.time()\n",
        "from scipy.special.orthogonal import roots_hermitenorm\n",
        "\n",
        "def label_classify(price):\n",
        "    if price > 1.5 :\n",
        "        x = 1\n",
        "        return 1     \n",
        "    elif price <1.5 :\n",
        "        return 0     \n",
        "\n",
        "train_data['price_range'] = train_data['price_range'].apply(label_classify)\n",
        "print(train_data['price_range'])\n",
        "print(f'run time : {time.time() - s_time}')"
      ]
    },
    {
      "cell_type": "code",
      "execution_count": 58,
      "metadata": {
        "colab": {
          "base_uri": "https://localhost:8080/",
          "height": 794
        },
        "id": "QQpZw6gf0RrA",
        "outputId": "6372c45e-e5fa-43a4-bfaa-0342b7fc8969"
      },
      "outputs": [
        {
          "output_type": "stream",
          "name": "stderr",
          "text": [
            "/usr/local/lib/python3.7/dist-packages/seaborn/distributions.py:2619: FutureWarning: `distplot` is a deprecated function and will be removed in a future version. Please adapt your code to use either `displot` (a figure-level function with similar flexibility) or `histplot` (an axes-level function for histograms).\n",
            "  warnings.warn(msg, FutureWarning)\n"
          ]
        },
        {
          "output_type": "display_data",
          "data": {
            "text/plain": [
              "<Figure size 576x396 with 1 Axes>"
            ],
            "image/png": "[encoded data removed]"
          },
          "metadata": {}
        },
        {
          "output_type": "stream",
          "name": "stderr",
          "text": [
            "/usr/local/lib/python3.7/dist-packages/seaborn/distributions.py:2619: FutureWarning: `distplot` is a deprecated function and will be removed in a future version. Please adapt your code to use either `displot` (a figure-level function with similar flexibility) or `histplot` (an axes-level function for histograms).\n",
            "  warnings.warn(msg, FutureWarning)\n"
          ]
        },
        {
          "output_type": "display_data",
          "data": {
            "text/plain": [
              "<Figure size 576x396 with 1 Axes>"
            ],
            "image/png": "[encoded data removed]"
          },
          "metadata": {}
        }
      ],
      "source": [
        "import seaborn as sns   \n",
        "sns.distplot(train_data['battery_power'])    \n",
        "plt.show()\n",
        "import seaborn as sns   \n",
        "sns.distplot(test_data['battery_power'])    \n",
        "plt.show()"
      ]
    },
    {
      "cell_type": "markdown",
      "metadata": {
        "id": "tAVO0KiIV9DT"
      },
      "source": [
        "# Preprocessing data"
      ]
    },
    {
      "cell_type": "markdown",
      "metadata": {
        "id": "IAYVVtd-WNK7"
      },
      "source": [
        "**Checking the missing data**"
      ]
    },
    {
      "cell_type": "code",
      "execution_count": 59,
      "metadata": {
        "colab": {
          "base_uri": "https://localhost:8080/"
        },
        "id": "4k8LQ106WTOC",
        "outputId": "0e598ad0-1d99-4e7b-b5e6-2f2d3fb7bdeb"
      },
      "outputs": [
        {
          "output_type": "stream",
          "name": "stdout",
          "text": [
            "number of null values in each column of train:\n",
            "index            0\n",
            "battery_power    0\n",
            "blue             0\n",
            "clock_speed      0\n",
            "dual_sim         0\n",
            "fc               0\n",
            "four_g           0\n",
            "int_memory       0\n",
            "m_dep            0\n",
            "mobile_wt        0\n",
            "n_cores          0\n",
            "pc               0\n",
            "px_height        0\n",
            "px_width         0\n",
            "ram              0\n",
            "sc_h             0\n",
            "sc_w             0\n",
            "talk_time        0\n",
            "three_g          0\n",
            "touch_screen     0\n",
            "wifi             0\n",
            "price_range      0\n",
            "dtype: int64\n"
          ]
        }
      ],
      "source": [
        "print(\"number of null values in each column of train:\")\n",
        "print(train_data.isna().sum() )"
      ]
    },
    {
      "cell_type": "markdown",
      "metadata": {
        "id": "HT-lgO52WDzM"
      },
      "source": [
        "**Delete duplicates**"
      ]
    },
    {
      "cell_type": "code",
      "execution_count": 60,
      "metadata": {
        "colab": {
          "base_uri": "https://localhost:8080/"
        },
        "id": "RcadN7YOWlzT",
        "outputId": "b6bc79c4-4ed0-4740-e8fc-2774ad9320da"
      },
      "outputs": [
        {
          "output_type": "stream",
          "name": "stdout",
          "text": [
            "New train data len: 2000\n"
          ]
        }
      ],
      "source": [
        "train_data=train_data.drop_duplicates() \n",
        "print(\"New train data len:\", len(train_data))"
      ]
    },
    {
      "cell_type": "markdown",
      "metadata": {
        "id": "ABsqteRyMFSM"
      },
      "source": [
        "**Dataset distribution plot before deleting outlier data**"
      ]
    },
    {
      "cell_type": "code",
      "execution_count": 61,
      "metadata": {
        "colab": {
          "base_uri": "https://localhost:8080/",
          "height": 418
        },
        "id": "srcXfjzeMFSN",
        "outputId": "f26addd0-f5bf-49ac-b02f-28a33179b05d"
      },
      "outputs": [
        {
          "output_type": "stream",
          "name": "stderr",
          "text": [
            "/usr/local/lib/python3.7/dist-packages/seaborn/distributions.py:2619: FutureWarning: `distplot` is a deprecated function and will be removed in a future version. Please adapt your code to use either `displot` (a figure-level function with similar flexibility) or `histplot` (an axes-level function for histograms).\n",
            "  warnings.warn(msg, FutureWarning)\n"
          ]
        },
        {
          "output_type": "display_data",
          "data": {
            "text/plain": [
              "<Figure size 576x396 with 1 Axes>"
            ],
            "image/png": "[encoded data removed]"
          },
          "metadata": {}
        }
      ],
      "source": [
        "\n",
        "import seaborn as sns\n",
        "sns.distplot(train_data,bins=10, hist=True, kde=True,color='red', vertical=False,\n",
        "             norm_hist=False, axlabel=True, label='data outlier', ax=None, x=None)    \n",
        "plt.show()"
      ]
    },
    {
      "cell_type": "markdown",
      "metadata": {
        "id": "jx4Guy_vTwRy"
      },
      "source": [
        "**Min Max normalization**"
      ]
    },
    {
      "cell_type": "code",
      "execution_count": 62,
      "metadata": {
        "id": "Bzpx0pK0EgT3"
      },
      "outputs": [],
      "source": [
        "for cols in train_data.columns:\n",
        "   if (train_data[cols].dtypes == 'int64' or train_data[cols].dtypes == 'float64'):\n",
        "       train_data[cols]=(train_data[cols]-train_data[cols].mean())/train_data[cols].std()"
      ]
    },
    {
      "cell_type": "code",
      "source": [
        "# Delete all Outlier "
      ],
      "metadata": {
        "id": "4iL8RztuvIhb"
      },
      "execution_count": 63,
      "outputs": []
    },
    {
      "cell_type": "code",
      "execution_count": 64,
      "metadata": {
        "id": "oqMup4fTC9me"
      },
      "outputs": [],
      "source": [
        "for cols in train_data.columns:\n",
        "   if (train_data[cols].dtypes == 'int64' or train_data[cols].dtypes == 'float64'):\n",
        "       upper_range=(train_data[cols].mean()+3 )* train_data[cols].std()\n",
        "       lower_range=(train_data[cols].mean()-3 )* train_data[cols].std()\n",
        "       indexes=train_data[(train_data[cols]>upper_range)|(train_data[cols]< lower_range)].index\n",
        "       train_data=train_data.drop(indexes)"
      ]
    },
    {
      "cell_type": "code",
      "execution_count": 65,
      "metadata": {
        "colab": {
          "base_uri": "https://localhost:8080/"
        },
        "id": "_8LWyCuBFEt-",
        "outputId": "f5b12349-15ef-4402-edf7-494609fa410a"
      },
      "outputs": [
        {
          "output_type": "stream",
          "name": "stdout",
          "text": [
            "# of records in train dataset:  1988\n"
          ]
        }
      ],
      "source": [
        "print(\"# of records in train dataset: \", len(train_data))"
      ]
    },
    {
      "cell_type": "markdown",
      "metadata": {
        "id": "FohiiqH3MW80"
      },
      "source": [
        "# Feature selection using Feed Forward method"
      ]
    },
    {
      "cell_type": "code",
      "execution_count": 66,
      "metadata": {
        "colab": {
          "base_uri": "https://localhost:8080/"
        },
        "id": "Bwgj8oL_DLJY",
        "outputId": "2dae3563-2f8c-468c-f04c-2b3f4ec9f413"
      },
      "outputs": [
        {
          "output_type": "stream",
          "name": "stdout",
          "text": [
            "shape X_train: (1391, 21)\n",
            "shape X_test: (597, 21)\n",
            "shape y_train: (1391,)\n",
            "shape y_test: (597,)\n"
          ]
        }
      ],
      "source": [
        "X = train_data.drop(['price_range'], axis=1)\n",
        "y = train_data['price_range']\n",
        "y = LabelEncoder().fit_transform(y)\n",
        "\n",
        "X_train, X_test, y_train, y_test = train_test_split(X, y, test_size=0.3, random_state=22,stratify=y, shuffle=True)\n",
        "\n",
        "print(\"shape X_train:\",X_train.shape)\n",
        "print(\"shape X_test:\",X_test.shape)\n",
        "print(\"shape y_train:\",y_train.shape)\n",
        "print(\"shape y_test:\",y_test.shape)"
      ]
    },
    {
      "cell_type": "markdown",
      "metadata": {
        "id": "dIwdvQKi-ZzI"
      },
      "source": [
        "**Logistic regression on all features**"
      ]
    },
    {
      "cell_type": "code",
      "execution_count": 67,
      "metadata": {
        "colab": {
          "base_uri": "https://localhost:8080/",
          "height": 583
        },
        "id": "v3WtuRRI-cfM",
        "outputId": "2afe4916-8e02-4867-9023-d0dbf8bd7465"
      },
      "outputs": [
        {
          "output_type": "display_data",
          "data": {
            "text/plain": [
              "<Figure size 432x432 with 1 Axes>"
            ],
            "image/png": "[encoded data removed]"
          },
          "metadata": {}
        },
        {
          "output_type": "stream",
          "name": "stdout",
          "text": [
            "Classification report : \n",
            "               precision    recall  f1-score   support\n",
            "\n",
            "           1       1.00      0.98      0.99       299\n",
            "           0       0.98      1.00      0.99       298\n",
            "\n",
            "    accuracy                           0.99       597\n",
            "   macro avg       0.99      0.99      0.99       597\n",
            "weighted avg       0.99      0.99      0.99       597\n",
            "\n"
          ]
        }
      ],
      "source": [
        "X_train_all = pd.DataFrame(data=X_train, columns=X_train.columns)\n",
        "X_test_all = pd.DataFrame(data=X_test, columns=X_test.columns)\n",
        "pipe = make_pipeline(StandardScaler(), LogisticRegression(n_jobs=1, penalty='l2'))\n",
        "pipe.fit(X_train_all, y_train)  # apply scaling on training data\n",
        "Pipeline(steps=[('standardscaler', StandardScaler()),('logisticregression', LogisticRegression())])\n",
        "\n",
        "actual = y_test\n",
        "Logre = LogisticRegression()\n",
        "Logre.fit(X_train_all, y_train)\n",
        "\n",
        "predicted = Logre.predict(X_test_all)\n",
        "cm = confusion_matrix(actual, predicted)\n",
        "df1 = pd.DataFrame(columns=[\"0\",\"1\"], index= [\"0\",\"1\"], data= cm )\n",
        "\n",
        "f,ax = plt.subplots(figsize=(6,6))\n",
        "sns.heatmap(df1, annot=True, fmt= '.00f',ax=ax,linewidths = 3, cbar = False,cmap='YlOrRd_r')\n",
        "plt.xlabel(\"Predict\", size = 14)\n",
        "plt.ylabel(\"True \", size = 14)\n",
        "plt.title(\"CM\", size = 14)\n",
        "plt.show()\n",
        "matrix = classification_report(actual,predicted,labels=[1,0])\n",
        "print('Classification report : \\n',matrix)\n"
      ]
    },
    {
      "cell_type": "markdown",
      "metadata": {
        "id": "Z162O5Eu_aEv"
      },
      "source": [
        "**All features confusion matrix**"
      ]
    },
    {
      "cell_type": "markdown",
      "metadata": {
        "id": "mLiEQ-pTwtCw"
      },
      "source": [
        "**Forward Feature Selection by AUC**"
      ]
    },
    {
      "cell_type": "code",
      "execution_count": 68,
      "metadata": {
        "id": "XvTIzre_aa1W"
      },
      "outputs": [],
      "source": [
        "def ForwardFeatureSelect(X_train, y_train,n):\n",
        "\n",
        "    initial_features = train_data.columns.tolist()\n",
        "    best_features = []\n",
        "    init_auc = 0.55\n",
        "\n",
        "    # train models\n",
        "    from sklearn.linear_model import LogisticRegression\n",
        "\n",
        "    # logistic regression\n",
        "    model1 = LogisticRegression()\n",
        "\n",
        "    from prettytable import PrettyTable as pt\n",
        "    tb = pt()\n",
        "    tb.field_names = [\"index\",\"column\",\"auc_score1 (LR)\"]\n",
        "    tb.align='l'\n",
        "    tb.align[\"index\"] = \"c\"\n",
        "    tb.title='selected features based on AUC through forward selection'\n",
        "    i=0\n",
        "\n",
        "    for new_feature in initial_features:\n",
        "\n",
        "        best_features.append(new_feature)\n",
        "        X_train_f = pd.DataFrame(data=X_train, columns=best_features)\n",
        "        X_test_f = pd.DataFrame(data=X_test, columns=best_features)\n",
        "\n",
        "        # fit model\n",
        "        model1.fit(X_train_f, y_train)\n",
        "\n",
        "        # predict probabilities\n",
        "        pred_prob1 = model1.predict_proba(X_test_f)\n",
        "\n",
        "        from sklearn.metrics import roc_curve\n",
        "\n",
        "        # roc curve for models\n",
        "        fpr1, tpr1, thresh1 = roc_curve(y_test, pred_prob1[:,1], pos_label=1)\n",
        "\n",
        "        # roc curve for tpr = fpr \n",
        "        random_probs = [0 for i in range(len(y_test))]\n",
        "        p_fpr, p_tpr, _ = roc_curve(y_test, random_probs, pos_label=1)\n",
        "\n",
        "\n",
        "        from sklearn.metrics import roc_auc_score\n",
        "\n",
        "        # auc scores\n",
        "        auc_score1 = roc_auc_score(y_test, pred_prob1[:,1])\n",
        "\n",
        "        if  auc_score1 > init_auc :\n",
        "            init_auc =  auc_score1\n",
        "            tb.add_row([i+1,new_feature,  auc_score1])\n",
        "        else:\n",
        "          best_features.pop()\n",
        "        if len(best_features) == n:\n",
        "          break \n",
        "        i=i+1\n",
        "    print(tb)\n",
        "\n",
        "    return best_features"
      ]
    },
    {
      "cell_type": "code",
      "source": [
        "best_features=ForwardFeatureSelect(X,y,6)"
      ],
      "metadata": {
        "colab": {
          "base_uri": "https://localhost:8080/"
        },
        "id": "OYOoQbtLYQm0",
        "outputId": "cf362b5d-0969-4507-cf97-73d000e35526"
      },
      "execution_count": 69,
      "outputs": [
        {
          "output_type": "stream",
          "name": "stdout",
          "text": [
            "+----------------------------------------------------------+\n",
            "| selected features based on AUC through forward selection |\n",
            "+---------+--------------------+---------------------------+\n",
            "|  index  | column             | auc_score1 (LR)           |\n",
            "+---------+--------------------+---------------------------+\n",
            "|    2    | battery_power      | 0.6129323696437791        |\n",
            "|    4    | clock_speed        | 0.6133083432470652        |\n",
            "|    5    | dual_sim           | 0.6163666359902135        |\n",
            "|    6    | fc                 | 0.6179995959686652        |\n",
            "|    9    | m_dep              | 0.6222419249848488        |\n",
            "|    10   | mobile_wt          | 0.6240825121770555        |\n",
            "+---------+--------------------+---------------------------+\n"
          ]
        }
      ]
    },
    {
      "cell_type": "markdown",
      "metadata": {
        "id": "pgluyeaeNBM2"
      },
      "source": [
        "**logistic regression on best selected features**"
      ]
    },
    {
      "cell_type": "code",
      "execution_count": 70,
      "metadata": {
        "colab": {
          "base_uri": "https://localhost:8080/"
        },
        "id": "BFFT0U8txrhY",
        "outputId": "d32d9b86-4253-43ed-87b3-db5536c9b4cd"
      },
      "outputs": [
        {
          "output_type": "stream",
          "name": "stdout",
          "text": [
            "auc score (logistic regression): 0.6137123745819398\n"
          ]
        }
      ],
      "source": [
        "# train models\n",
        "from sklearn.linear_model import LogisticRegression\n",
        "\n",
        "\n",
        "X_train_features = pd.DataFrame(data=X_train, columns=best_features)\n",
        "X_test_features = pd.DataFrame(data=X_test, columns=best_features)\n",
        "Reg = LogisticRegression()\n",
        "Reg.fit(X_train_features, y_train)\n",
        "pred_prob_features_1 = Reg.predict_proba(X_test_features)\n",
        "from sklearn.metrics import roc_curve\n",
        "random_probs = [0 for i in range(len(y_test))]\n",
        "from sklearn.metrics import roc_auc_score\n",
        "auc_score1 = roc_auc_score(y_test, pred_prob_features_1[:,1])\n",
        "print('auc score (logistic regression):',auc_score1)"
      ]
    },
    {
      "cell_type": "code",
      "execution_count": 71,
      "metadata": {
        "colab": {
          "base_uri": "https://localhost:8080/",
          "height": 376
        },
        "id": "LPzerp7qSbws",
        "outputId": "3686dbb2-cb5c-4fc0-9785-05d034e1a031"
      },
      "outputs": [
        {
          "output_type": "display_data",
          "data": {
            "text/plain": [
              "<Figure size 576x396 with 1 Axes>"
            ],
            "image/png": "[encoded data removed]"
          },
          "metadata": {}
        }
      ],
      "source": [
        "import matplotlib.pyplot as plt\n",
        "plt.style.use('seaborn')\n",
        "\n",
        "# roc curve for models\n",
        "fpr1, tpr1, thresh1 = roc_curve(y_test, pred_prob_features_1[:,1], pos_label=1)\n",
        "\n",
        "p_fpr, p_tpr, _ = roc_curve(y_test, random_probs, pos_label=1)\n",
        "plt.plot(fpr1, tpr1, linestyle='-.',color='red', label='Logistic Regression')\n",
        "plt.plot(p_fpr, p_tpr, linestyle='-.', color='blue')\n",
        "# title\n",
        "plt.title('ROC curve ( Forward features selection)')\n",
        "# x label\n",
        "plt.xlabel('False Positive Rate')\n",
        "# y label\n",
        "plt.ylabel('True Positive rate')\n",
        "\n",
        "plt.legend(loc='best')\n",
        "plt.savefig('ROC',dpi=300)\n",
        "plt.show();"
      ]
    },
    {
      "cell_type": "markdown",
      "metadata": {
        "id": "mM6xKKBC77oA"
      },
      "source": [
        "**Logistic regression on best selected features (using pipeline)**"
      ]
    },
    {
      "cell_type": "code",
      "execution_count": 72,
      "metadata": {
        "colab": {
          "base_uri": "https://localhost:8080/"
        },
        "id": "pX9pMAdMHaAs",
        "outputId": "6ae5f658-5e0d-483a-eed7-b1585a13d2e0"
      },
      "outputs": [
        {
          "output_type": "execute_result",
          "data": {
            "text/plain": [
              "0.5896147403685092"
            ]
          },
          "metadata": {},
          "execution_count": 72
        }
      ],
      "source": [
        "X_train1 = pd.DataFrame(data=X_train, columns=best_features)\n",
        "X_test1 = pd.DataFrame(data=X_test, columns=best_features)\n",
        "\n",
        "pipe = make_pipeline(StandardScaler(), LogisticRegression())\n",
        "pipe.fit(X_train1, y_train)  # apply scaling on training data\n",
        "Pipeline(steps=[('standardscaler', StandardScaler()),('logisticregression', LogisticRegression())])\n",
        "\n",
        "pipe.score(X_test1, y_test) "
      ]
    },
    {
      "cell_type": "code",
      "execution_count": 73,
      "metadata": {
        "colab": {
          "base_uri": "https://localhost:8080/",
          "height": 396
        },
        "id": "u_6Er1SaOs7i",
        "outputId": "2eced391-47f8-42e9-d0b6-200b35fa8039"
      },
      "outputs": [
        {
          "output_type": "stream",
          "name": "stdout",
          "text": [
            "No Skill: ROC AUC=0.50000\n",
            "Logistic: ROC AUC=0.61371\n"
          ]
        },
        {
          "output_type": "display_data",
          "data": {
            "text/plain": [
              "<Figure size 576x396 with 1 Axes>"
            ],
            "image/png": "[encoded data removed]"
          },
          "metadata": {}
        }
      ],
      "source": [
        "\n",
        "ns_probs = [0 for _ in range(len(y_test))]\n",
        "\n",
        "model = LogisticRegression(solver='lbfgs')\n",
        "model.fit(X_train1, y_train)\n",
        "\n",
        "lr_probs = model.predict_proba(X_test1)  # predict probabilities\n",
        "\n",
        "lr_probs = lr_probs[:, 1]  \n",
        "ns_auc = roc_auc_score(y_test, ns_probs)  # calculate scores\n",
        "lr_auc = roc_auc_score(y_test, lr_probs)\n",
        "\n",
        "# summarize scores\n",
        "print('No Skill: ROC AUC=%.5f' % (ns_auc))\n",
        "print('Logistic: ROC AUC=%.5f' % (lr_auc))\n",
        "\n",
        "# calculate roc curves\n",
        "ns_fpr, ns_tpr, _ = roc_curve(y_test, ns_probs)   # fpr=false positive rates \n",
        "lr_fpr, lr_tpr, _ = roc_curve(y_test, lr_probs)   # tpr=true positive rates\n",
        "\n",
        "# plot the roc curve for the model\n",
        "pyplot.plot(ns_fpr, ns_tpr, linestyle='--',color='blue', label='No Skill')\n",
        "pyplot.plot(lr_fpr, lr_tpr, marker='.',color='red', label='Logistic')\n",
        "\n",
        "# axis labels\n",
        "pyplot.xlabel('False Positive Rate')\n",
        "pyplot.ylabel('True Positive Rate')\n",
        "\n",
        "# show the legend\n",
        "pyplot.legend()\n",
        "# show the plot\n",
        "pyplot.show()"
      ]
    },
    {
      "cell_type": "markdown",
      "metadata": {
        "id": "OL5QsNZy8dpE"
      },
      "source": [
        "# PCA\n",
        "Principal Component Analysis"
      ]
    },
    {
      "cell_type": "code",
      "source": [
        "data=pd.read_csv(\"train.csv\").reset_index()  #reading dataset\n",
        "data.shape"
      ],
      "metadata": {
        "colab": {
          "base_uri": "https://localhost:8080/"
        },
        "id": "2JXZHddgNibL",
        "outputId": "65bc1247-b0b9-4b24-d38b-d68bd2dc7e86"
      },
      "execution_count": 74,
      "outputs": [
        {
          "output_type": "execute_result",
          "data": {
            "text/plain": [
              "(2000, 22)"
            ]
          },
          "metadata": {},
          "execution_count": 74
        }
      ]
    },
    {
      "cell_type": "markdown",
      "source": [
        "we devide our features into Categorical and numerical features"
      ],
      "metadata": {
        "id": "cLteO_xUNaqz"
      }
    },
    {
      "cell_type": "code",
      "source": [
        "cat_vals = [\"blue\", \"dual_sim\", \"four_g\", \"wifi\", \"touch_screen\", \"three_g\"]\n",
        "num_vals = [\"battery_power\", \"clock_speed\", \"fc\", \"int_memory\", \"m_dep\", \"mobile_wt\",\n",
        "            \"n_cores\", \"pc\", \"px_height\", \"px_width\", \"ram\",\n",
        "            'sc_h', 'sc_w', 'talk_time'\n",
        "           ]\n",
        "# We verify if we included all the features\n",
        "print(len(cat_vals) + len(num_vals) == data.shape[1] - 2)"
      ],
      "metadata": {
        "colab": {
          "base_uri": "https://localhost:8080/"
        },
        "id": "lfkqZbUENSfK",
        "outputId": "c7fb113d-41d7-4210-bf41-fdf5aafdd2cc"
      },
      "execution_count": 75,
      "outputs": [
        {
          "output_type": "stream",
          "name": "stdout",
          "text": [
            "True\n"
          ]
        }
      ]
    },
    {
      "cell_type": "code",
      "source": [
        "# features\n",
        "X = data[data.columns[1:-1]]\n",
        "# target\n",
        "Y = data[[\"price_range\"]]"
      ],
      "metadata": {
        "id": "5dQYhkblN4M5"
      },
      "execution_count": 76,
      "outputs": []
    },
    {
      "cell_type": "code",
      "source": [
        "# Categorical features\n",
        "X_cat = X[cat_vals]\n",
        "# Numerical features\n",
        "X_num = X[num_vals]\n",
        "pca = PCA(n_components=4)\n",
        "X_transf= pca.fit_transform(X_num)\n",
        "data[\"X_PCA1\"] = X_transf[:, 0]\n",
        "data[\"X_PCA2\"] = X_transf[:, 1]\n",
        "data[\"X_PCA3\"] = X_transf[:, 2]\n",
        "data[\"X_PCA4\"] = X_transf[:, 3]\n",
        "# feature is now made of the four components of the PCA and the categorical values\n",
        "features = [\"X_PCA1\", \"X_PCA2\", \"X_PCA3\", \"X_PCA4\"] + cat_vals\n",
        "X_training = data[features]\n",
        "X_training.head()\n",
        "X_train, X_test, y_train, y_test = train_test_split(X_training, Y, test_size=0.33)\n",
        "actual = y_test\n",
        "y_train_fit = y_train.to_numpy().ravel()\n",
        "from sklearn.linear_model import LogisticRegression\n",
        "\n",
        "# logistic regression\n",
        "LR = LogisticRegression()\n",
        "\n",
        "# fit model\n",
        "LR.fit(X_train, y_train_fit)\n",
        "# train models\n",
        "\n",
        "# predict probabilities\n",
        "pred_prob1 = LR.predict_proba(X_test)\n",
        "\n",
        "from sklearn.metrics import roc_curve\n",
        "\n",
        "# roc curve for models\n",
        "fpr1, tpr1, thresh1 = roc_curve(y_test, pred_prob1[:,1], pos_label=1)\n",
        "\n",
        "\n",
        "# roc curve for tpr = fpr \n",
        "random_probs = [0 for i in range(len(y_test))]\n",
        "p_fpr, p_tpr, _ = roc_curve(y_test, random_probs, pos_label=1)\n",
        "\n",
        "# matplotlib\n",
        "import matplotlib.pyplot as plt\n",
        "plt.style.use('seaborn')\n",
        "\n",
        "# plot roc curves\n",
        "plt.plot(fpr1, tpr1, linestyle='--',color='green', label='Logistic Regression')\n",
        "plt.plot(p_fpr, p_tpr, linestyle='--', color='blue')\n",
        "# title\n",
        "plt.title('ROC curve')\n",
        "# x label\n",
        "plt.xlabel('False Positive Rate')\n",
        "# y label\n",
        "plt.ylabel('True Positive rate')\n",
        "\n",
        "plt.legend(loc='best')\n",
        "plt.savefig('ROC',dpi=300)\n",
        "plt.show();\n",
        "from sklearn.metrics import classification_report,accuracy_score,confusion_matrix\n",
        "import seaborn as sns\n",
        "# confusion matrix\n",
        "y_pred = LR.predict(X_test)\n",
        "print(confusion_matrix(y_test, y_pred))\n",
        "# confusion matrix\n",
        "matrix = confusion_matrix(actual,y_pred, labels=[1,0])\n",
        "print(\"------------------------------------------------------------------\")\n",
        "print('Confusion matrix : \\n',matrix)\n",
        "print(\"------------------------------------------------------------------\")\n",
        "# outcome values order in sklearn\n",
        "tp, fn, fp, tn = confusion_matrix(actual,y_pred,labels=[1,0]).reshape(-1)\n",
        "\n",
        "df1 = pd.DataFrame(columns=[\"0\",\"1\"], index= [\"0\",\"1\"], data= matrix )\n",
        "\n",
        "f,ax = plt.subplots(figsize=(6,6))\n",
        "\n",
        "sns.heatmap(df1, annot=True, fmt= '.0f',ax=ax,linewidths = 3, cbar = False,cmap='YlOrRd_r')\n",
        "plt.xlabel(\"Predicted Label\", size = 14)\n",
        "plt.xticks(size = 14)\n",
        "plt.yticks(size = 14, rotation = 90)\n",
        "plt.ylabel(\"True Label\", size = 14)\n",
        "plt.title(\"Confusion Matrix\", size = 14)\n",
        "plt.show()\n",
        "\n",
        "# classification report for precision, recall f1-score and accuracy\n",
        "matrix = classification_report(actual,y_pred,labels=[1,0])\n",
        "print('Classification report : \\n',matrix)\n"
      ],
      "metadata": {
        "id": "6UmiCXsMOhP8",
        "colab": {
          "base_uri": "https://localhost:8080/",
          "height": 1000
        },
        "outputId": "ad7d3da5-efc0-48f9-b200-c830336fa3ee"
      },
      "execution_count": 77,
      "outputs": [
        {
          "output_type": "stream",
          "name": "stderr",
          "text": [
            "/usr/local/lib/python3.7/dist-packages/sklearn/linear_model/_logistic.py:818: ConvergenceWarning: lbfgs failed to converge (status=1):\n",
            "STOP: TOTAL NO. of ITERATIONS REACHED LIMIT.\n",
            "\n",
            "Increase the number of iterations (max_iter) or scale the data as shown in:\n",
            "    https://scikit-learn.org/stable/modules/preprocessing.html\n",
            "Please also refer to the documentation for alternative solver options:\n",
            "    https://scikit-learn.org/stable/modules/linear_model.html#logistic-regression\n",
            "  extra_warning_msg=_LOGISTIC_SOLVER_CONVERGENCE_MSG,\n"
          ]
        },
        {
          "output_type": "display_data",
          "data": {
            "text/plain": [
              "<Figure size 576x396 with 1 Axes>"
            ],
            "image/png": "[encoded data removed]"
          },
          "metadata": {}
        },
        {
          "output_type": "stream",
          "name": "stdout",
          "text": [
            "[[148  13   0   0]\n",
            " [ 20 144   1   0]\n",
            " [  0   4 144  17]\n",
            " [  0   0  15 154]]\n",
            "------------------------------------------------------------------\n",
            "Confusion matrix : \n",
            " [[144  20]\n",
            " [ 13 148]]\n",
            "------------------------------------------------------------------\n"
          ]
        },
        {
          "output_type": "display_data",
          "data": {
            "text/plain": [
              "<Figure size 432x432 with 1 Axes>"
            ],
            "image/png": "[encoded data removed]"
          },
          "metadata": {}
        },
        {
          "output_type": "stream",
          "name": "stdout",
          "text": [
            "Classification report : \n",
            "               precision    recall  f1-score   support\n",
            "\n",
            "           1       0.89      0.87      0.88       165\n",
            "           0       0.88      0.92      0.90       161\n",
            "\n",
            "   micro avg       0.89      0.90      0.89       326\n",
            "   macro avg       0.89      0.90      0.89       326\n",
            "weighted avg       0.89      0.90      0.89       326\n",
            "\n"
          ]
        }
      ]
    },
    {
      "cell_type": "markdown",
      "metadata": {
        "id": "0NJehRXkaJkV"
      },
      "source": [
        "# Feature engineering"
      ]
    },
    {
      "cell_type": "markdown",
      "metadata": {
        "id": "MUmewRQNahx-"
      },
      "source": [
        "## **1.Binning**"
      ]
    },
    {
      "cell_type": "code",
      "execution_count": 78,
      "metadata": {
        "id": "823vAes9zM1v"
      },
      "outputs": [],
      "source": [
        "def create_equal_bins(n):\n",
        "    \n",
        "    bins=[]\n",
        "    a=dftrain.battery_power.min()\n",
        "    b=dftrain.battery_power.max()\n",
        "    width=(b-a)/n   \n",
        "    for i in range(n+1):\n",
        "      bins.append((a+i*width))  \n",
        "    print(\"Bins:\")\n",
        "\n",
        "    return  bins"
      ]
    },
    {
      "cell_type": "code",
      "execution_count": 79,
      "metadata": {
        "id": "Ym9tCoOwb6In"
      },
      "outputs": [],
      "source": [
        "def create_unequal_bins(dftrain):\n",
        "    import random\n",
        "    n=random.randint(1,4)\n",
        "    bins=[]\n",
        "    a=dftrain.battery_power.min()\n",
        "    b=dftrain.battery_power.max()\n",
        "    width=(b-a)/n\n",
        "    bins.append(a)\n",
        "    bins.append((a+width/5)) \n",
        "    bins.append((a+width/3))\n",
        "    bins.append((b-width)/2)\n",
        "    bins.append((b-width/3))\n",
        "    bins.append(b)\n",
        "\n",
        "    print(\"Bins:\")\n",
        "    return  sorted(bins)"
      ]
    },
    {
      "cell_type": "markdown",
      "metadata": {
        "id": "wzykac9jcqaQ"
      },
      "source": [
        "now we create unequal bins :"
      ]
    },
    {
      "cell_type": "code",
      "execution_count": 80,
      "metadata": {
        "id": "rVqmgX2QIEtF"
      },
      "outputs": [],
      "source": [
        "def value_counter(dftrain,bins): \n",
        "  #bin_labels=pd.DatFrame()\n",
        "  bin_labels = pd.DataFrame(columns = ['value', 'label'])\n",
        "  \n",
        "  # append rows to an empty DataFrame\n",
        "\n",
        "  data=[]\n",
        "  for value in dftrain.battery_power:\n",
        "      data.append(value)\n",
        "      for i in range(0,len(bins)-1):\n",
        "          if bins[i] <= value < bins[i+1]:\n",
        "             bin_labels=bin_labels.append({'value' : value, 'label' : i+1}, \n",
        "                ignore_index = True)\n",
        "             \n",
        "\n",
        "  occur = bin_labels.groupby(['label']).size()\n",
        "  \n",
        "  import matplotlib.pyplot as plt\n",
        "    \n",
        "  plt.size=(5,5)\n",
        "  plt.hist(data, bins= bins,edgecolor=\"yellow\", color=\"blue\")\n",
        "    \n",
        "  plt.show()\n",
        "\n",
        "  return display(occur)"
      ]
    },
    {
      "cell_type": "code",
      "execution_count": null,
      "metadata": {
        "id": "JZUBew6Ld5Hs"
      },
      "outputs": [],
      "source": [
        "bin_index = create_equal_bins(6)  \n",
        "print('bins:',bin_index)\n",
        "value_counter(dftrain,bin_index)"
      ]
    },
    {
      "cell_type": "code",
      "execution_count": null,
      "metadata": {
        "id": "OVeSwxFYa7l4"
      },
      "outputs": [],
      "source": [
        "bin_index = create_unequal_bins(dftrain)  \n",
        "print('bins:',bin_index)\n",
        "value_counter(dftrain,bin_index)"
      ]
    },
    {
      "cell_type": "markdown",
      "metadata": {
        "id": "SZXkzVV2VR3F"
      },
      "source": [
        "## **2.Onehot encoding**"
      ]
    },
    {
      "cell_type": "code",
      "source": [
        "import pandas as pd\n",
        "\n",
        "\n",
        "train_data=pd.read_csv(\"train.csv\")  #reading dataset\n",
        "test_data = pd.read_csv(\"test.csv\")  #reading dataset\n",
        "\n",
        "train_data.dropna(axis=0, subset=['price_range'], inplace=True)\n",
        "target = train_data.price_range\n",
        "\n",
        "# Drop data where the target is missing\n",
        "cols_with_missing = [col for col in train_data.columns  if train_data[col].isnull().any()]                                  \n",
        "candidate_train_predictors = train_data.drop(['price_range'] + cols_with_missing, axis=1)\n",
        "candidate_test_predictors = test_data.drop(['id'] + cols_with_missing, axis=1)\n",
        "\n",
        "\n",
        "low_cardinality_cols = [cname for cname in candidate_train_predictors.columns if \n",
        "                                candidate_train_predictors[cname].nunique() < 10 and\n",
        "                                candidate_train_predictors[cname].dtype == \"object\"]\n",
        "numeric_cols = [cname for cname in candidate_train_predictors.columns if \n",
        "                                candidate_train_predictors[cname].dtype in ['int64', 'float64']]\n",
        "my_cols = low_cardinality_cols + numeric_cols\n",
        "train_predictors = candidate_train_predictors[my_cols]\n",
        "test_predictors = candidate_test_predictors[my_cols]"
      ],
      "metadata": {
        "id": "U0bvSv6-VghF"
      },
      "execution_count": 82,
      "outputs": []
    },
    {
      "cell_type": "code",
      "source": [
        "train_predictors = candidate_train_predictors[my_cols]\n",
        "test_predictors = candidate_test_predictors[my_cols]"
      ],
      "metadata": {
        "id": "2R8_SeAhx46F"
      },
      "execution_count": 83,
      "outputs": []
    },
    {
      "cell_type": "code",
      "source": [
        "train_predictors.dtypes.sample(10)"
      ],
      "metadata": {
        "colab": {
          "base_uri": "https://localhost:8080/"
        },
        "id": "c1uKlfWzVYAT",
        "outputId": "6625708b-fb08-4f5f-d64d-11f4b4c94c0e"
      },
      "execution_count": 84,
      "outputs": [
        {
          "output_type": "execute_result",
          "data": {
            "text/plain": [
              "sc_w               int64\n",
              "battery_power      int64\n",
              "clock_speed      float64\n",
              "m_dep            float64\n",
              "px_height          int64\n",
              "n_cores            int64\n",
              "four_g             int64\n",
              "wifi               int64\n",
              "blue               int64\n",
              "mobile_wt          int64\n",
              "dtype: object"
            ]
          },
          "metadata": {},
          "execution_count": 84
        }
      ]
    },
    {
      "cell_type": "code",
      "source": [
        "one_hot_encoded_training_predictors = pd.get_dummies(train_predictors)"
      ],
      "metadata": {
        "id": "gJjp70S7VUn3"
      },
      "execution_count": 85,
      "outputs": []
    },
    {
      "cell_type": "code",
      "source": [
        "from sklearn.model_selection import cross_val_score\n",
        "from sklearn.ensemble import RandomForestRegressor\n",
        "\n",
        "def get_mae(X, y):\n",
        "    # multiple by -1 to make positive MAE score instead of neg value returned as sklearn convention\n",
        "    return -1 * cross_val_score(RandomForestRegressor(50), \n",
        "                                X, y, \n",
        "                                scoring = 'neg_mean_absolute_error').mean()\n",
        "\n",
        "predictors_without_categoricals = train_predictors.select_dtypes(exclude=['object'])\n",
        "\n",
        "mae_without_categoricals = get_mae(predictors_without_categoricals, target)\n",
        "\n",
        "mae_one_hot_encoded = get_mae(one_hot_encoded_training_predictors, target)\n",
        "\n",
        "print('Mean Absolute Error when Dropping Categoricals: ' + str(int(mae_without_categoricals)))\n",
        "print('Mean Abslute Error with One-Hot Encoding: ' + str(int(mae_one_hot_encoded)))"
      ],
      "metadata": {
        "colab": {
          "base_uri": "https://localhost:8080/"
        },
        "id": "DDTnXOzyVSIy",
        "outputId": "0e7eff3d-b95e-453e-e723-cd8db4bc231b"
      },
      "execution_count": 86,
      "outputs": [
        {
          "output_type": "stream",
          "name": "stdout",
          "text": [
            "Mean Absolute Error when Dropping Categoricals: 0\n",
            "Mean Abslute Error with One-Hot Encoding: 0\n"
          ]
        }
      ]
    },
    {
      "cell_type": "markdown",
      "source": [
        "Applying to Multiple Files"
      ],
      "metadata": {
        "id": "Z8bF-LVjYJUH"
      }
    },
    {
      "cell_type": "code",
      "source": [
        "one_hot_encoded_training_predictors = pd.get_dummies(train_predictors)\n",
        "one_hot_encoded_test_predictors = pd.get_dummies(test_predictors)\n",
        "final_train, final_test = one_hot_encoded_training_predictors.align(one_hot_encoded_test_predictors,\n",
        "                                                                    join='left', \n",
        "                                                                    axis=1)"
      ],
      "metadata": {
        "id": "ipJJjk8fX3Uz"
      },
      "execution_count": 87,
      "outputs": []
    },
    {
      "cell_type": "code",
      "source": [
        "predictors_without_categoricals = train_predictors.select_dtypes(exclude=['object'])\n",
        "\n",
        "mae_without_categoricals = get_mae(predictors_without_categoricals, target)\n",
        "mae_one_hot_encoded = get_mae(one_hot_encoded_training_predictors, target)\n",
        "\n",
        "print('Mean Absolute Error when Dropping Categoricals: ' + str(int(mae_without_categoricals)))\n",
        "print('Mean Abslute Error with One-Hot Encoding: ' + str(int(mae_one_hot_encoded)))"
      ],
      "metadata": {
        "colab": {
          "base_uri": "https://localhost:8080/"
        },
        "id": "xmDzXpyKYBZV",
        "outputId": "9f76cb72-eb0f-444f-97ae-f4cabc099b11"
      },
      "execution_count": 88,
      "outputs": [
        {
          "output_type": "stream",
          "name": "stdout",
          "text": [
            "Mean Absolute Error when Dropping Categoricals: 0\n",
            "Mean Abslute Error with One-Hot Encoding: 0\n"
          ]
        }
      ]
    },
    {
      "cell_type": "markdown",
      "metadata": {
        "id": "mx9xCWihuuX_"
      },
      "source": [
        "# decision tree"
      ]
    },
    {
      "cell_type": "code",
      "execution_count": 89,
      "metadata": {
        "id": "y6dwKg9nvekl"
      },
      "outputs": [],
      "source": [
        "import pandas as pd\n",
        "from sklearn.tree import DecisionTreeClassifier \n",
        "from sklearn.model_selection import train_test_split \n",
        "from sklearn import metrics \n"
      ]
    },
    {
      "cell_type": "code",
      "source": [
        "X = train_data.drop(['price_range'], axis=1)\n",
        "y = train_data['price_range']\n",
        "y = LabelEncoder().fit_transform(y)\n",
        "\n",
        "print(X.shape)\n",
        "print(y.shape)"
      ],
      "metadata": {
        "colab": {
          "base_uri": "https://localhost:8080/"
        },
        "id": "Q5luBD-hMcYX",
        "outputId": "49107b4e-ecf5-4f63-faef-9f94e1c50d34"
      },
      "execution_count": 90,
      "outputs": [
        {
          "output_type": "stream",
          "name": "stdout",
          "text": [
            "(2000, 20)\n",
            "(2000,)\n"
          ]
        }
      ]
    },
    {
      "cell_type": "code",
      "source": [
        "col_names=['battery_power', 'blue', 'clock_speed', 'dual_sim', 'fc', 'four_g',\n",
        "       'int_memory', 'm_dep', 'mobile_wt', 'n_cores', 'pc', 'px_height',\n",
        "       'px_width', 'ram', 'sc_h', 'sc_w', 'talk_time', 'three_g',\n",
        "       'touch_screen', 'wifi','Area']"
      ],
      "metadata": {
        "id": "QJzxOc4RS3DE"
      },
      "execution_count": 91,
      "outputs": []
    },
    {
      "cell_type": "code",
      "source": [
        "\n",
        "X_train, X_test, y_train, y_test = train_test_split(X, y, test_size=0.3, random_state=1) # 70% training and 30% test"
      ],
      "metadata": {
        "id": "Jjfp9VVpNB3-"
      },
      "execution_count": 92,
      "outputs": []
    },
    {
      "cell_type": "markdown",
      "source": [
        " Performing The decision tree analysis using scikit learn"
      ],
      "metadata": {
        "id": "GtQqB2U5OupY"
      }
    },
    {
      "cell_type": "code",
      "source": [
        "clf = DecisionTreeClassifier()\n",
        "clf = clf.fit(X_train,y_train)\n",
        "y_pred = clf.predict(X_test)\n",
        "print(\"Accuracy:\",metrics.accuracy_score(y_test, y_pred))"
      ],
      "metadata": {
        "id": "6ohBLZQsOknY",
        "colab": {
          "base_uri": "https://localhost:8080/"
        },
        "outputId": "919236ac-3fbf-49c8-a43f-9ed8e53f5905"
      },
      "execution_count": 93,
      "outputs": [
        {
          "output_type": "stream",
          "name": "stdout",
          "text": [
            "Accuracy: 0.85\n"
          ]
        }
      ]
    }
  ],
  "metadata": {
    "colab": {
      "collapsed_sections": [],
      "name": "H2_part1_.ipynb",
      "provenance": []
    },
    "kernelspec": {
      "display_name": "Python 3",
      "name": "python3"
    },
    "language_info": {
      "name": "python"
    }
  },
  "nbformat": 4,
  "nbformat_minor": 0
}